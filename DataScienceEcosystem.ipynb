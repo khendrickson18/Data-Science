{
 "cells": [
  {
   "cell_type": "markdown",
   "id": "97636d00-6ca1-43c9-b982-68c668102bd4",
   "metadata": {},
   "source": [
    "# Data Science Tools and Ecosystem"
   ]
  },
  {
   "cell_type": "markdown",
   "id": "f485d5f8-5324-44e9-804c-da0392fd66e1",
   "metadata": {},
   "source": [
    "In this notebook, Data Science Tools and Ecosystem are summarized."
   ]
  },
  {
   "cell_type": "markdown",
   "id": "8ea28b3d-f853-4609-a54c-43da1dd0c69d",
   "metadata": {},
   "source": [
    "__Objectives:__"
   ]
  },
  {
   "cell_type": "markdown",
   "id": "0a8a0f3f-f366-4278-bf4c-32bf84baa532",
   "metadata": {},
   "source": [
    "- list popular languages for data science\n",
    "- list commonly used libraries for data science\n",
    "- list development environment open source tools used in data science "
   ]
  },
  {
   "cell_type": "markdown",
   "id": "780528be-044b-4c14-bd4f-75a10b35a496",
   "metadata": {},
   "source": [
    "Some of the popular languages that Data Scientists use are:"
   ]
  },
  {
   "cell_type": "markdown",
   "id": "1749caae-bc5b-4e61-b0fd-257015ea1ee2",
   "metadata": {},
   "source": [
    "1. Python \n",
    "2. R\n",
    "3. SQL\n",
    "4. Scala \n",
    "5. Java"
   ]
  },
  {
   "cell_type": "markdown",
   "id": "bf4daefc-78ee-4d73-9bde-d9c166b8a804",
   "metadata": {},
   "source": [
    "Some of the commonly used libraries used by Data Scientists include:"
   ]
  },
  {
   "cell_type": "markdown",
   "id": "0b28ae9d-20c7-4a7a-8851-343eb66b04de",
   "metadata": {},
   "source": [
    "1. ggplot2\n",
    "2. NumPy\n",
    "3. TensorFlow\n",
    "4. Pandas"
   ]
  },
  {
   "cell_type": "markdown",
   "id": "a40a391d-507d-46dc-b8b0-2ee5931de202",
   "metadata": {},
   "source": [
    "|Data Science Tools|\n",
    "| ---------------- |\n",
    "| R Studio |\n",
    "| Jupyter Notebook |\n",
    "| ApacheSpark |"
   ]
  },
  {
   "cell_type": "markdown",
   "id": "58b817c6-ec54-45df-a510-e39e7d654c37",
   "metadata": {},
   "source": [
    "### Below are a few examples of evaluating arithmetic expressions in Python"
   ]
  },
  {
   "cell_type": "markdown",
   "id": "3dff9cd1-aac3-48f3-b3f4-46223e543129",
   "metadata": {},
   "source": [
    "This a simple arithmetic expression to mutiply then add integers"
   ]
  },
  {
   "cell_type": "code",
   "execution_count": 1,
   "id": "dc464836-685a-4e87-9bbe-e9e85c7e677a",
   "metadata": {
    "tags": []
   },
   "outputs": [
    {
     "data": {
      "text/plain": [
       "17"
      ]
     },
     "execution_count": 1,
     "metadata": {},
     "output_type": "execute_result"
    }
   ],
   "source": [
    "(3*4)+5"
   ]
  },
  {
   "cell_type": "markdown",
   "id": "8442a0ad-ddcd-40d7-8399-50a24e3a13f9",
   "metadata": {},
   "source": [
    "This will convert 200 minutes to hours by dividing by 60"
   ]
  },
  {
   "cell_type": "code",
   "execution_count": 2,
   "id": "11c4df32-6d66-4ffd-a8ed-679c79afbc8a",
   "metadata": {
    "tags": []
   },
   "outputs": [
    {
     "data": {
      "text/plain": [
       "3.3333333333333335"
      ]
     },
     "execution_count": 2,
     "metadata": {},
     "output_type": "execute_result"
    }
   ],
   "source": [
    "200/60"
   ]
  },
  {
   "cell_type": "markdown",
   "id": "272b461c-a7ff-4e08-bc65-dc5d19b4b3c0",
   "metadata": {},
   "source": [
    "## Author"
   ]
  },
  {
   "cell_type": "markdown",
   "id": "286c816b-b153-4223-b535-6b66302ade65",
   "metadata": {},
   "source": [
    "Kristen Hendrickson"
   ]
  },
  {
   "cell_type": "code",
   "execution_count": null,
   "id": "0490643f-b2b6-49fb-99b0-2c46f98420d2",
   "metadata": {},
   "outputs": [],
   "source": []
  }
 ],
 "metadata": {
  "kernelspec": {
   "display_name": "Python",
   "language": "python",
   "name": "conda-env-python-py"
  },
  "language_info": {
   "codemirror_mode": {
    "name": "ipython",
    "version": 3
   },
   "file_extension": ".py",
   "mimetype": "text/x-python",
   "name": "python",
   "nbconvert_exporter": "python",
   "pygments_lexer": "ipython3",
   "version": "3.7.12"
  }
 },
 "nbformat": 4,
 "nbformat_minor": 5
}
